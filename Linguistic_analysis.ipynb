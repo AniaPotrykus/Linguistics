{
  "nbformat": 4,
  "nbformat_minor": 0,
  "metadata": {
    "colab": {
      "provenance": []
    },
    "kernelspec": {
      "name": "python3",
      "display_name": "Python 3"
    },
    "language_info": {
      "name": "python"
    }
  },
  "cells": [
    {
      "cell_type": "markdown",
      "source": [
        "# **Web Scraping and Linguistic Analysis** 📊\n",
        "In this project, I used Python to conduct linguistic analysis on text extracted from a [webpage](https://nautil.us/never-say-wolf-237701/). Throughout the process, I used **requests** and **BeautifulSoup** labraries to scrape the content from the URL. Subsequently, I applied **nltk** library and **regular expressions** (**re** module) to perform the following linguistic tasks:\n",
        "* Tokenization and POS Tagging\n",
        "* POS Tag Frequency Analysis\n",
        "* Word Length Analysis\n",
        "* Word Frequency Analysis\n",
        "* Past Continuous Tense Analysis"
      ],
      "metadata": {
        "id": "XTXsN2Cmrkyf"
      }
    },
    {
      "cell_type": "markdown",
      "source": [
        "## 1. Importing Modules\n",
        "The first stage of the analysis is to import the required modules:"
      ],
      "metadata": {
        "id": "zjE5oLaFu4nP"
      }
    },
    {
      "cell_type": "code",
      "execution_count": 12,
      "metadata": {
        "id": "fIIqQZ7xADKS",
        "collapsed": true
      },
      "outputs": [],
      "source": [
        "import requests\n",
        "from bs4 import BeautifulSoup\n",
        "import nltk\n",
        "from collections import Counter\n",
        "import re\n",
        "import matplotlib.pyplot as plt"
      ]
    },
    {
      "cell_type": "markdown",
      "source": [
        "**Requests** and **BeautifulSoup** enable web scraping, while **nltk**, **Counter**, and **re** enable data analysis in the field of Natural Language Processing (NLP). **matplotlib** is used to create a bar chart."
      ],
      "metadata": {
        "id": "qixbmDPU51n7"
      }
    },
    {
      "cell_type": "markdown",
      "source": [
        "## 2. Web Scraping"
      ],
      "metadata": {
        "id": "KHa8Vntc6aQY"
      }
    },
    {
      "cell_type": "code",
      "source": [
        "\n",
        "page = requests.get(\"https://nautil.us/never-say-wolf-237701/\")\n",
        "\n",
        "soup = BeautifulSoup(page.content, 'html.parser')\n",
        "\n",
        "paragraphs = soup.find_all('p')\n",
        "\n",
        "only_text = []\n",
        "\n",
        "for el in paragraphs:\n",
        "    if len(el.getText().strip()) > 0:\n",
        "        only_text.append(el.getText())\n",
        "\n"
      ],
      "metadata": {
        "id": "gdMRGECUAoyW"
      },
      "execution_count": 13,
      "outputs": []
    },
    {
      "cell_type": "markdown",
      "source": [
        "In this section, the text content is being scraped from a [webpage](https://nautil.us/never-say-wolf-237701/). **Requests** is used to fetch the text, and **BeautifulSoup** is employed to parse the HTML content. Subsequently, all paragraph elements are found applying **soup.find_all(\"p\")**, and the text is appended to the list after removing unnecessary whitespaces."
      ],
      "metadata": {
        "id": "SoPeBWiRAYwv"
      }
    },
    {
      "cell_type": "markdown",
      "source": [
        "## 3. Tokenization and Parts-of-Speech Tagging"
      ],
      "metadata": {
        "id": "CPc1t61OC5ND"
      }
    },
    {
      "cell_type": "code",
      "source": [
        "pos_tagged_tokens = []\n",
        "\n",
        "for sentence in only_text:\n",
        "    tokens = nltk.word_tokenize(sentence)\n",
        "    pos_tagged = nltk.pos_tag(tokens)\n",
        "    for item in pos_tagged:\n",
        "        pos_tagged_tokens.append(item)\n"
      ],
      "metadata": {
        "id": "P9ceobkNAxJI"
      },
      "execution_count": 14,
      "outputs": []
    },
    {
      "cell_type": "markdown",
      "source": [
        "Next, the text undergoes parts-of-speech (POS) tagging. Firstly, the text is tokenized into words applying **nltk.word_tokenize()**. Then, the words are tagged using **nltk.pos_tag()**. The POS tags are then stored in a list."
      ],
      "metadata": {
        "id": "86EMs7_cDXy8"
      }
    },
    {
      "cell_type": "markdown",
      "source": [
        "## 4. POS Tag Frequency Analysis"
      ],
      "metadata": {
        "id": "v_6yRUgpTfwq"
      }
    },
    {
      "cell_type": "code",
      "source": [
        "pos_tags_list = [tag for word, tag in pos_tagged_tokens]\n",
        "pos_tag_counts = Counter(pos_tags_list)\n",
        "print(pos_tag_counts)"
      ],
      "metadata": {
        "colab": {
          "base_uri": "https://localhost:8080/"
        },
        "id": "RI1tUNXHTdRj",
        "outputId": "33c86838-40a0-4e5a-f4a6-a732764cd709"
      },
      "execution_count": 15,
      "outputs": [
        {
          "output_type": "stream",
          "name": "stdout",
          "text": [
            "Counter({'NN': 352, 'IN': 276, 'DT': 225, 'NNP': 162, 'JJ': 159, 'NNS': 154, ',': 148, '.': 104, 'CC': 67, 'RB': 62, 'VBN': 57, 'VBP': 55, 'VBZ': 54, 'VBD': 50, 'VBG': 48, 'VB': 47, 'PRP': 46, 'TO': 34, 'PRP$': 18, 'MD': 18, 'WRB': 13, 'WDT': 11, 'CD': 10, 'RP': 8, 'WP': 7, ':': 5, '(': 4, ')': 4, 'NNPS': 4, 'JJS': 3, 'EX': 2, 'RBR': 2, 'JJR': 2, 'RBS': 2})\n"
          ]
        }
      ]
    },
    {
      "cell_type": "markdown",
      "source": [
        "The occurrence of each Part-of-Speech tag is counted using **Counter**.\n",
        "\n",
        "To display only the most common parts of speech the **.most_common(5)** method is used."
      ],
      "metadata": {
        "id": "Cw9Ym3zOUEO9"
      }
    },
    {
      "cell_type": "code",
      "source": [
        "most_common_pos = pos_tag_counts.most_common(5)\n",
        "print(most_common_pos)\n",
        "tags, counts = zip(*most_common_pos)\n",
        "plt.bar(tags[0:8], counts[0:8], color = \"green\")"
      ],
      "metadata": {
        "colab": {
          "base_uri": "https://localhost:8080/",
          "height": 465
        },
        "id": "cWG-btkHSJu8",
        "outputId": "77f50d2e-9881-437b-997c-1b01b10e684f"
      },
      "execution_count": 16,
      "outputs": [
        {
          "output_type": "stream",
          "name": "stdout",
          "text": [
            "[('NN', 352), ('IN', 276), ('DT', 225), ('NNP', 162), ('JJ', 159)]\n"
          ]
        },
        {
          "output_type": "execute_result",
          "data": {
            "text/plain": [
              "<BarContainer object of 5 artists>"
            ]
          },
          "metadata": {},
          "execution_count": 16
        },
        {
          "output_type": "display_data",
          "data": {
            "text/plain": [
              "<Figure size 640x480 with 1 Axes>"
            ],
            "image/png": "[encoded data removed]"
          },
          "metadata": {}
        }
      ]
    },
    {
      "cell_type": "markdown",
      "source": [
        "The five most common POS tags are split into separate lists of tags and their counts with zip(\\*most_common_pos). The bar chart is displayed using **plt.bar()**."
      ],
      "metadata": {
        "id": "mDxaWYsOM6vj"
      }
    },
    {
      "cell_type": "markdown",
      "source": [
        "## 5. Word Length Analysis"
      ],
      "metadata": {
        "id": "7ZzEKqOXUKZx"
      }
    },
    {
      "cell_type": "code",
      "source": [
        "all_text = ' '.join(only_text)\n",
        "words = re.findall(r'\\b\\w+\\b', all_text)\n",
        "word_lengths = [len(word) for word in words]\n",
        "length_freq = Counter(word_lengths)\n",
        "print(length_freq)"
      ],
      "metadata": {
        "colab": {
          "base_uri": "https://localhost:8080/"
        },
        "id": "sUTVHrKDIFBM",
        "outputId": "0179af73-a555-40bf-f0fb-1dbb84940d45"
      },
      "execution_count": 17,
      "outputs": [
        {
          "output_type": "stream",
          "name": "stdout",
          "text": [
            "Counter({4: 391, 3: 352, 2: 281, 5: 222, 6: 198, 7: 184, 8: 119, 9: 94, 1: 62, 10: 30, 11: 19, 12: 6, 14: 3, 18: 2, 15: 1, 13: 1})\n"
          ]
        }
      ]
    },
    {
      "cell_type": "markdown",
      "source": [
        "After concatenating all the text into a single string by **.join()**, **regular expressions** are utilized to find all words in the text. The expression matches patterns consisting of a word boundary (\\b) followed by one or more word characters (w+) and a word boundary (\\b). Next, the length of words is calculated using a **for loop** in a **list comprehension**. Finally, **Counter** is applied to calculate the frequency of each word length.\n",
        ""
      ],
      "metadata": {
        "id": "N-edEEyCU0BG"
      }
    },
    {
      "cell_type": "code",
      "source": [
        "print(length_freq.most_common(10))"
      ],
      "metadata": {
        "colab": {
          "base_uri": "https://localhost:8080/"
        },
        "id": "LRTkeNMUSMfe",
        "outputId": "4fb1d719-ebca-4b0b-f92f-d1caf7c87c2b"
      },
      "execution_count": 18,
      "outputs": [
        {
          "output_type": "stream",
          "name": "stdout",
          "text": [
            "[(4, 391), (3, 352), (2, 281), (5, 222), (6, 198), (7, 184), (8, 119), (9, 94), (1, 62), (10, 30)]\n"
          ]
        }
      ]
    },
    {
      "cell_type": "markdown",
      "source": [
        "Again, the **.most_common()** method is used to display only the most frequent number of letters in a word."
      ],
      "metadata": {
        "id": "5fOxavBLBbSj"
      }
    },
    {
      "cell_type": "code",
      "source": [
        "total_words = len(words)\n",
        "\n",
        "total_letters = 0\n",
        "for word in words:\n",
        "  total_letters += len(word)\n",
        "\n",
        "avg_letters_for_words = total_letters / total_words\n",
        "\n",
        "print(f\"Average word length: {avg_letters_for_words}\")"
      ],
      "metadata": {
        "colab": {
          "base_uri": "https://localhost:8080/"
        },
        "id": "4vIDk3TaMz21",
        "outputId": "444218b2-a76a-4e4f-93cc-92a223c1dfff"
      },
      "execution_count": 19,
      "outputs": [
        {
          "output_type": "stream",
          "name": "stdout",
          "text": [
            "Average word length: 4.740458015267175\n"
          ]
        }
      ]
    },
    {
      "cell_type": "markdown",
      "source": [
        "After determining the total number of words in the text by the **len** function, each word is iterated through, and their length is summed. The average word length is counted by dividing the total number of letters by the total number of words."
      ],
      "metadata": {
        "id": "mlRpb6C_bkdI"
      }
    },
    {
      "cell_type": "markdown",
      "source": [
        "## 6. Word Frequency Analysis"
      ],
      "metadata": {
        "id": "EDsn_V1VdVGY"
      }
    },
    {
      "cell_type": "code",
      "source": [
        "def find_word_frequency(word):\n",
        "  pattern = fr'\\b{word}\\b'\n",
        "  matches = re.findall(pattern, all_text, re.IGNORECASE)\n",
        "  return f\"The total number of the word in the text: {len(matches)}\"\n",
        "\n",
        "print(find_word_frequency(\"wolf\"))"
      ],
      "metadata": {
        "colab": {
          "base_uri": "https://localhost:8080/"
        },
        "id": "3AzFr0HpKK5p",
        "outputId": "5d2277ff-998f-41e9-eace-224b181243ca"
      },
      "execution_count": 20,
      "outputs": [
        {
          "output_type": "stream",
          "name": "stdout",
          "text": [
            "The total number of the word in the text: 32\n"
          ]
        }
      ]
    },
    {
      "cell_type": "markdown",
      "source": [
        "In this section, a **find_word_frequency()** function is defined to count the frequency of a specific word in the text. It takes a string as input. Inside the function, a **regex** pattern is constructed to match the given word. \\b is applied to match word boundaries. The usage of **formatted string** allows the user to dynamically insert the word into the pattern."
      ],
      "metadata": {
        "id": "nPdRQHvUdpUr"
      }
    },
    {
      "cell_type": "markdown",
      "source": [
        "## 7. Past Continuous Tense Analysis"
      ],
      "metadata": {
        "id": "SfPTZVVAfEOJ"
      }
    },
    {
      "cell_type": "code",
      "source": [
        "pattern_neg_pos = r\"\\b(was(n't| not)?|were(n't|not)?)\\s+\\w+ing\\b\"\n",
        "matches_neg_pos = re.findall(pattern_neg_pos, all_text, re.IGNORECASE)\n",
        "neg_pos = len(matches_neg_pos)\n",
        "\n",
        "pattern_ques = r\"\\b(were|was)\\s+\\w+\\s+\\w+ing?\\b\"\n",
        "matches_ques = re.findall(pattern_ques, all_text, re.IGNORECASE)\n",
        "ques = len(matches_ques)\n",
        "\n",
        "print(f\"The number of past continuous used in negative and positive sentences: {neg_pos}\")\n",
        "print(f\"The number of past continuous used in questions: {ques}\")\n",
        "print(f\"Total number of past continuous used in the text: {neg_pos + ques}\")"
      ],
      "metadata": {
        "colab": {
          "base_uri": "https://localhost:8080/"
        },
        "id": "IYJNlzaFTzS7",
        "outputId": "14244300-2daa-4ea2-f428-b1770098bb11"
      },
      "execution_count": 21,
      "outputs": [
        {
          "output_type": "stream",
          "name": "stdout",
          "text": [
            "The number of past continuous used in negative and positive sentences: 2\n",
            "The number of past continuous used in questions: 1\n",
            "Total number of past continuous used in the text: 3\n"
          ]
        }
      ]
    },
    {
      "cell_type": "markdown",
      "source": [
        "In this stage, the occurrences of past continuous tense in the text are counted. Firstly, the **regex** pattern is constructed to match positive and negative sentences:\n",
        "* **\\b** - asserts a word boundary\n",
        "* **was(n't| not)?|were(n't|not)?** - matches _was_ or _were_ followed by an optional _n't_ or _not_\n",
        "* **\\s+** - matches one or more whitespace characters\n",
        "* **\\w+ing\\b** - matches one or more word characters followed by _ing_ and asserts a word boundary to ensure it ends with _ing_\n",
        "\n",
        "Subsequently, **re.findall** finds all occurrences of the pattern in the text, ignoring case, and the **len** function counts the number of matches - the number of past continuous forms used in positive and negative sentences.\n",
        "\n",
        "Next, the occurrence of questions is counted. Again, firstly, the **regex** pattern is established:\n",
        "* **\\b(were|was)** - matches _were_ or _was_\n",
        "* **\\s+** - matches one or more whitespace characters\n",
        "* **\\w+** - matches one or more word characters (the subject of the sentence)\n",
        "* **\\s+** - matches one or more whitespace characters\n",
        "* **\\w+ing\\b** - matches one or more word characters ending with _ing_ and asserts a word boundary\n",
        "\n",
        "Again, **re.findall** finds all occurrences of the pattern in the text, ignoring case, and the **len** function counts the number of matches - the number of interrogative structures used in the text."
      ],
      "metadata": {
        "id": "1ldyRdFpi_OT"
      }
    },
    {
      "cell_type": "markdown",
      "source": [
        "#Summary\n",
        "In this project, Python is utilized to perform linguistic analysis on text extracted from a webpage. The process includes the following steps:\n",
        "\n",
        "1. Web Scraping\n",
        "2. Tonenization and POS Tagging\n",
        "3. POS Tag Frequency Analysis\n",
        "4. Word Length Analysis\n",
        "5. Word Frequency Analysis\n",
        "6. Past Continuous Tense Analysis\n"
      ],
      "metadata": {
        "id": "wpod5vTJ6Aw8"
      }
    }
  ]
}