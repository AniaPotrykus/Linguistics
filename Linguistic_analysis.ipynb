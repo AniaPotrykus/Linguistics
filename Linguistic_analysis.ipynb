{
  "cells": [
    {
      "cell_type": "markdown",
      "metadata": {
        "id": "XTXsN2Cmrkyf"
      },
      "source": [
        "# **Web Scraping and Linguistic Analysis** 📊\n",
        "In this project, I used Python to conduct linguistic analysis on text extracted from a [webpage](https://nautil.us/never-say-wolf-237701/). Throughout the process, I used **requests** and **BeautifulSoup** labraries to scrape the content from the URL. Subsequently, I applied **nltk** library and **regular expressions** (**re** module) to perform the following linguistic tasks:\n",
        "* Tokenization and POS Tagging\n",
        "* POS Tag Frequency Analysis\n",
        "* Word Length Analysis\n",
        "* Word Frequency Analysis\n",
        "* Past Continuous Tense Analysis"
      ]
    },
    {
      "cell_type": "markdown",
      "metadata": {
        "id": "zjE5oLaFu4nP"
      },
      "source": [
        "## 1. Importing Modules\n",
        "The first stage of the analysis is to import the required modules:"
      ]
    },
    {
      "cell_type": "code",
      "execution_count": null,
      "metadata": {
        "colab": {
          "base_uri": "https://localhost:8080/"
        },
        "collapsed": true,
        "id": "fIIqQZ7xADKS",
        "outputId": "39ca9b5a-d263-4f13-e510-d0371f0f0565"
      },
      "outputs": [
        {
          "name": "stderr",
          "output_type": "stream",
          "text": [
            "[nltk_data] Downloading collection 'all'\n",
            "[nltk_data]    | \n",
            "[nltk_data]    | Downloading package abc to /root/nltk_data...\n",
            "[nltk_data]    |   Package abc is already up-to-date!\n",
            "[nltk_data]    | Downloading package alpino to /root/nltk_data...\n",
            "[nltk_data]    |   Package alpino is already up-to-date!\n",
            "[nltk_data]    | Downloading package averaged_perceptron_tagger to\n",
            "[nltk_data]    |     /root/nltk_data...\n",
            "[nltk_data]    |   Package averaged_perceptron_tagger is already up-\n",
            "[nltk_data]    |       to-date!\n",
            "[nltk_data]    | Downloading package averaged_perceptron_tagger_ru to\n",
            "[nltk_data]    |     /root/nltk_data...\n",
            "[nltk_data]    |   Package averaged_perceptron_tagger_ru is already\n",
            "[nltk_data]    |       up-to-date!\n",
            "[nltk_data]    | Downloading package basque_grammars to\n",
            "[nltk_data]    |     /root/nltk_data...\n",
            "[nltk_data]    |   Package basque_grammars is already up-to-date!\n",
            "[nltk_data]    | Downloading package bcp47 to /root/nltk_data...\n",
            "[nltk_data]    |   Package bcp47 is already up-to-date!\n",
            "[nltk_data]    | Downloading package biocreative_ppi to\n",
            "[nltk_data]    |     /root/nltk_data...\n",
            "[nltk_data]    |   Package biocreative_ppi is already up-to-date!\n",
            "[nltk_data]    | Downloading package bllip_wsj_no_aux to\n",
            "[nltk_data]    |     /root/nltk_data...\n",
            "[nltk_data]    |   Package bllip_wsj_no_aux is already up-to-date!\n",
            "[nltk_data]    | Downloading package book_grammars to\n",
            "[nltk_data]    |     /root/nltk_data...\n",
            "[nltk_data]    |   Package book_grammars is already up-to-date!\n",
            "[nltk_data]    | Downloading package brown to /root/nltk_data...\n",
            "[nltk_data]    |   Package brown is already up-to-date!\n",
            "[nltk_data]    | Downloading package brown_tei to /root/nltk_data...\n",
            "[nltk_data]    |   Package brown_tei is already up-to-date!\n",
            "[nltk_data]    | Downloading package cess_cat to /root/nltk_data...\n",
            "[nltk_data]    |   Package cess_cat is already up-to-date!\n",
            "[nltk_data]    | Downloading package cess_esp to /root/nltk_data...\n",
            "[nltk_data]    |   Package cess_esp is already up-to-date!\n",
            "[nltk_data]    | Downloading package chat80 to /root/nltk_data...\n",
            "[nltk_data]    |   Package chat80 is already up-to-date!\n",
            "[nltk_data]    | Downloading package city_database to\n",
            "[nltk_data]    |     /root/nltk_data...\n",
            "[nltk_data]    |   Package city_database is already up-to-date!\n",
            "[nltk_data]    | Downloading package cmudict to /root/nltk_data...\n",
            "[nltk_data]    |   Package cmudict is already up-to-date!\n",
            "[nltk_data]    | Downloading package comparative_sentences to\n",
            "[nltk_data]    |     /root/nltk_data...\n",
            "[nltk_data]    |   Package comparative_sentences is already up-to-\n",
            "[nltk_data]    |       date!\n",
            "[nltk_data]    | Downloading package comtrans to /root/nltk_data...\n",
            "[nltk_data]    |   Package comtrans is already up-to-date!\n",
            "[nltk_data]    | Downloading package conll2000 to /root/nltk_data...\n",
            "[nltk_data]    |   Package conll2000 is already up-to-date!\n",
            "[nltk_data]    | Downloading package conll2002 to /root/nltk_data...\n",
            "[nltk_data]    |   Package conll2002 is already up-to-date!\n",
            "[nltk_data]    | Downloading package conll2007 to /root/nltk_data...\n",
            "[nltk_data]    |   Package conll2007 is already up-to-date!\n",
            "[nltk_data]    | Downloading package crubadan to /root/nltk_data...\n",
            "[nltk_data]    |   Package crubadan is already up-to-date!\n",
            "[nltk_data]    | Downloading package dependency_treebank to\n",
            "[nltk_data]    |     /root/nltk_data...\n",
            "[nltk_data]    |   Package dependency_treebank is already up-to-date!\n",
            "[nltk_data]    | Downloading package dolch to /root/nltk_data...\n",
            "[nltk_data]    |   Package dolch is already up-to-date!\n",
            "[nltk_data]    | Downloading package europarl_raw to\n",
            "[nltk_data]    |     /root/nltk_data...\n",
            "[nltk_data]    |   Package europarl_raw is already up-to-date!\n",
            "[nltk_data]    | Downloading package extended_omw to\n",
            "[nltk_data]    |     /root/nltk_data...\n",
            "[nltk_data]    |   Package extended_omw is already up-to-date!\n",
            "[nltk_data]    | Downloading package floresta to /root/nltk_data...\n",
            "[nltk_data]    |   Package floresta is already up-to-date!\n",
            "[nltk_data]    | Downloading package framenet_v15 to\n",
            "[nltk_data]    |     /root/nltk_data...\n",
            "[nltk_data]    |   Package framenet_v15 is already up-to-date!\n",
            "[nltk_data]    | Downloading package framenet_v17 to\n",
            "[nltk_data]    |     /root/nltk_data...\n",
            "[nltk_data]    |   Package framenet_v17 is already up-to-date!\n",
            "[nltk_data]    | Downloading package gazetteers to /root/nltk_data...\n",
            "[nltk_data]    |   Package gazetteers is already up-to-date!\n",
            "[nltk_data]    | Downloading package genesis to /root/nltk_data...\n",
            "[nltk_data]    |   Package genesis is already up-to-date!\n",
            "[nltk_data]    | Downloading package gutenberg to /root/nltk_data...\n",
            "[nltk_data]    |   Package gutenberg is already up-to-date!\n",
            "[nltk_data]    | Downloading package ieer to /root/nltk_data...\n",
            "[nltk_data]    |   Package ieer is already up-to-date!\n",
            "[nltk_data]    | Downloading package inaugural to /root/nltk_data...\n",
            "[nltk_data]    |   Package inaugural is already up-to-date!\n",
            "[nltk_data]    | Downloading package indian to /root/nltk_data...\n",
            "[nltk_data]    |   Package indian is already up-to-date!\n",
            "[nltk_data]    | Downloading package jeita to /root/nltk_data...\n",
            "[nltk_data]    |   Package jeita is already up-to-date!\n",
            "[nltk_data]    | Downloading package kimmo to /root/nltk_data...\n",
            "[nltk_data]    |   Package kimmo is already up-to-date!\n",
            "[nltk_data]    | Downloading package knbc to /root/nltk_data...\n",
            "[nltk_data]    |   Package knbc is already up-to-date!\n",
            "[nltk_data]    | Downloading package large_grammars to\n",
            "[nltk_data]    |     /root/nltk_data...\n",
            "[nltk_data]    |   Package large_grammars is already up-to-date!\n",
            "[nltk_data]    | Downloading package lin_thesaurus to\n",
            "[nltk_data]    |     /root/nltk_data...\n",
            "[nltk_data]    |   Package lin_thesaurus is already up-to-date!\n",
            "[nltk_data]    | Downloading package mac_morpho to /root/nltk_data...\n",
            "[nltk_data]    |   Package mac_morpho is already up-to-date!\n",
            "[nltk_data]    | Downloading package machado to /root/nltk_data...\n",
            "[nltk_data]    |   Package machado is already up-to-date!\n",
            "[nltk_data]    | Downloading package masc_tagged to /root/nltk_data...\n",
            "[nltk_data]    |   Package masc_tagged is already up-to-date!\n",
            "[nltk_data]    | Downloading package maxent_ne_chunker to\n",
            "[nltk_data]    |     /root/nltk_data...\n",
            "[nltk_data]    |   Package maxent_ne_chunker is already up-to-date!\n",
            "[nltk_data]    | Downloading package maxent_treebank_pos_tagger to\n",
            "[nltk_data]    |     /root/nltk_data...\n",
            "[nltk_data]    |   Package maxent_treebank_pos_tagger is already up-\n",
            "[nltk_data]    |       to-date!\n",
            "[nltk_data]    | Downloading package moses_sample to\n",
            "[nltk_data]    |     /root/nltk_data...\n",
            "[nltk_data]    |   Package moses_sample is already up-to-date!\n",
            "[nltk_data]    | Downloading package movie_reviews to\n",
            "[nltk_data]    |     /root/nltk_data...\n",
            "[nltk_data]    |   Package movie_reviews is already up-to-date!\n",
            "[nltk_data]    | Downloading package mte_teip5 to /root/nltk_data...\n",
            "[nltk_data]    |   Package mte_teip5 is already up-to-date!\n",
            "[nltk_data]    | Downloading package mwa_ppdb to /root/nltk_data...\n",
            "[nltk_data]    |   Package mwa_ppdb is already up-to-date!\n",
            "[nltk_data]    | Downloading package names to /root/nltk_data...\n",
            "[nltk_data]    |   Package names is already up-to-date!\n",
            "[nltk_data]    | Downloading package nombank.1.0 to /root/nltk_data...\n",
            "[nltk_data]    |   Package nombank.1.0 is already up-to-date!\n",
            "[nltk_data]    | Downloading package nonbreaking_prefixes to\n",
            "[nltk_data]    |     /root/nltk_data...\n",
            "[nltk_data]    |   Package nonbreaking_prefixes is already up-to-date!\n",
            "[nltk_data]    | Downloading package nps_chat to /root/nltk_data...\n",
            "[nltk_data]    |   Package nps_chat is already up-to-date!\n",
            "[nltk_data]    | Downloading package omw to /root/nltk_data...\n",
            "[nltk_data]    |   Package omw is already up-to-date!\n",
            "[nltk_data]    | Downloading package omw-1.4 to /root/nltk_data...\n",
            "[nltk_data]    |   Package omw-1.4 is already up-to-date!\n",
            "[nltk_data]    | Downloading package opinion_lexicon to\n",
            "[nltk_data]    |     /root/nltk_data...\n",
            "[nltk_data]    |   Package opinion_lexicon is already up-to-date!\n",
            "[nltk_data]    | Downloading package panlex_swadesh to\n",
            "[nltk_data]    |     /root/nltk_data...\n",
            "[nltk_data]    |   Package panlex_swadesh is already up-to-date!\n",
            "[nltk_data]    | Downloading package paradigms to /root/nltk_data...\n",
            "[nltk_data]    |   Package paradigms is already up-to-date!\n",
            "[nltk_data]    | Downloading package pe08 to /root/nltk_data...\n",
            "[nltk_data]    |   Package pe08 is already up-to-date!\n",
            "[nltk_data]    | Downloading package perluniprops to\n",
            "[nltk_data]    |     /root/nltk_data...\n",
            "[nltk_data]    |   Package perluniprops is already up-to-date!\n",
            "[nltk_data]    | Downloading package pil to /root/nltk_data...\n",
            "[nltk_data]    |   Package pil is already up-to-date!\n",
            "[nltk_data]    | Downloading package pl196x to /root/nltk_data...\n",
            "[nltk_data]    |   Package pl196x is already up-to-date!\n",
            "[nltk_data]    | Downloading package porter_test to /root/nltk_data...\n",
            "[nltk_data]    |   Package porter_test is already up-to-date!\n",
            "[nltk_data]    | Downloading package ppattach to /root/nltk_data...\n",
            "[nltk_data]    |   Package ppattach is already up-to-date!\n",
            "[nltk_data]    | Downloading package problem_reports to\n",
            "[nltk_data]    |     /root/nltk_data...\n",
            "[nltk_data]    |   Package problem_reports is already up-to-date!\n",
            "[nltk_data]    | Downloading package product_reviews_1 to\n",
            "[nltk_data]    |     /root/nltk_data...\n",
            "[nltk_data]    |   Package product_reviews_1 is already up-to-date!\n",
            "[nltk_data]    | Downloading package product_reviews_2 to\n",
            "[nltk_data]    |     /root/nltk_data...\n",
            "[nltk_data]    |   Package product_reviews_2 is already up-to-date!\n",
            "[nltk_data]    | Downloading package propbank to /root/nltk_data...\n",
            "[nltk_data]    |   Package propbank is already up-to-date!\n",
            "[nltk_data]    | Downloading package pros_cons to /root/nltk_data...\n",
            "[nltk_data]    |   Package pros_cons is already up-to-date!\n",
            "[nltk_data]    | Downloading package ptb to /root/nltk_data...\n",
            "[nltk_data]    |   Package ptb is already up-to-date!\n",
            "[nltk_data]    | Downloading package punkt to /root/nltk_data...\n",
            "[nltk_data]    |   Package punkt is already up-to-date!\n",
            "[nltk_data]    | Downloading package qc to /root/nltk_data...\n",
            "[nltk_data]    |   Package qc is already up-to-date!\n",
            "[nltk_data]    | Downloading package reuters to /root/nltk_data...\n",
            "[nltk_data]    |   Package reuters is already up-to-date!\n",
            "[nltk_data]    | Downloading package rslp to /root/nltk_data...\n",
            "[nltk_data]    |   Package rslp is already up-to-date!\n",
            "[nltk_data]    | Downloading package rte to /root/nltk_data...\n",
            "[nltk_data]    |   Package rte is already up-to-date!\n",
            "[nltk_data]    | Downloading package sample_grammars to\n",
            "[nltk_data]    |     /root/nltk_data...\n",
            "[nltk_data]    |   Package sample_grammars is already up-to-date!\n",
            "[nltk_data]    | Downloading package semcor to /root/nltk_data...\n",
            "[nltk_data]    |   Package semcor is already up-to-date!\n",
            "[nltk_data]    | Downloading package senseval to /root/nltk_data...\n",
            "[nltk_data]    |   Package senseval is already up-to-date!\n",
            "[nltk_data]    | Downloading package sentence_polarity to\n",
            "[nltk_data]    |     /root/nltk_data...\n",
            "[nltk_data]    |   Package sentence_polarity is already up-to-date!\n",
            "[nltk_data]    | Downloading package sentiwordnet to\n",
            "[nltk_data]    |     /root/nltk_data...\n",
            "[nltk_data]    |   Package sentiwordnet is already up-to-date!\n",
            "[nltk_data]    | Downloading package shakespeare to /root/nltk_data...\n",
            "[nltk_data]    |   Package shakespeare is already up-to-date!\n",
            "[nltk_data]    | Downloading package sinica_treebank to\n",
            "[nltk_data]    |     /root/nltk_data...\n",
            "[nltk_data]    |   Package sinica_treebank is already up-to-date!\n",
            "[nltk_data]    | Downloading package smultron to /root/nltk_data...\n",
            "[nltk_data]    |   Package smultron is already up-to-date!\n",
            "[nltk_data]    | Downloading package snowball_data to\n",
            "[nltk_data]    |     /root/nltk_data...\n",
            "[nltk_data]    |   Package snowball_data is already up-to-date!\n",
            "[nltk_data]    | Downloading package spanish_grammars to\n",
            "[nltk_data]    |     /root/nltk_data...\n",
            "[nltk_data]    |   Package spanish_grammars is already up-to-date!\n",
            "[nltk_data]    | Downloading package state_union to /root/nltk_data...\n",
            "[nltk_data]    |   Package state_union is already up-to-date!\n",
            "[nltk_data]    | Downloading package stopwords to /root/nltk_data...\n",
            "[nltk_data]    |   Package stopwords is already up-to-date!\n",
            "[nltk_data]    | Downloading package subjectivity to\n",
            "[nltk_data]    |     /root/nltk_data...\n",
            "[nltk_data]    |   Package subjectivity is already up-to-date!\n",
            "[nltk_data]    | Downloading package swadesh to /root/nltk_data...\n",
            "[nltk_data]    |   Package swadesh is already up-to-date!\n",
            "[nltk_data]    | Downloading package switchboard to /root/nltk_data...\n",
            "[nltk_data]    |   Package switchboard is already up-to-date!\n",
            "[nltk_data]    | Downloading package tagsets to /root/nltk_data...\n",
            "[nltk_data]    |   Package tagsets is already up-to-date!\n",
            "[nltk_data]    | Downloading package timit to /root/nltk_data...\n",
            "[nltk_data]    |   Package timit is already up-to-date!\n",
            "[nltk_data]    | Downloading package toolbox to /root/nltk_data...\n",
            "[nltk_data]    |   Package toolbox is already up-to-date!\n",
            "[nltk_data]    | Downloading package treebank to /root/nltk_data...\n",
            "[nltk_data]    |   Package treebank is already up-to-date!\n",
            "[nltk_data]    | Downloading package twitter_samples to\n",
            "[nltk_data]    |     /root/nltk_data...\n",
            "[nltk_data]    |   Package twitter_samples is already up-to-date!\n",
            "[nltk_data]    | Downloading package udhr to /root/nltk_data...\n",
            "[nltk_data]    |   Package udhr is already up-to-date!\n",
            "[nltk_data]    | Downloading package udhr2 to /root/nltk_data...\n",
            "[nltk_data]    |   Package udhr2 is already up-to-date!\n",
            "[nltk_data]    | Downloading package unicode_samples to\n",
            "[nltk_data]    |     /root/nltk_data...\n",
            "[nltk_data]    |   Package unicode_samples is already up-to-date!\n",
            "[nltk_data]    | Downloading package universal_tagset to\n",
            "[nltk_data]    |     /root/nltk_data...\n",
            "[nltk_data]    |   Package universal_tagset is already up-to-date!\n",
            "[nltk_data]    | Downloading package universal_treebanks_v20 to\n",
            "[nltk_data]    |     /root/nltk_data...\n",
            "[nltk_data]    |   Package universal_treebanks_v20 is already up-to-\n",
            "[nltk_data]    |       date!\n",
            "[nltk_data]    | Downloading package vader_lexicon to\n",
            "[nltk_data]    |     /root/nltk_data...\n",
            "[nltk_data]    |   Package vader_lexicon is already up-to-date!\n",
            "[nltk_data]    | Downloading package verbnet to /root/nltk_data...\n",
            "[nltk_data]    |   Package verbnet is already up-to-date!\n",
            "[nltk_data]    | Downloading package verbnet3 to /root/nltk_data...\n",
            "[nltk_data]    |   Package verbnet3 is already up-to-date!\n",
            "[nltk_data]    | Downloading package webtext to /root/nltk_data...\n",
            "[nltk_data]    |   Package webtext is already up-to-date!\n",
            "[nltk_data]    | Downloading package wmt15_eval to /root/nltk_data...\n",
            "[nltk_data]    |   Package wmt15_eval is already up-to-date!\n",
            "[nltk_data]    | Downloading package word2vec_sample to\n",
            "[nltk_data]    |     /root/nltk_data...\n",
            "[nltk_data]    |   Package word2vec_sample is already up-to-date!\n",
            "[nltk_data]    | Downloading package wordnet to /root/nltk_data...\n",
            "[nltk_data]    |   Package wordnet is already up-to-date!\n",
            "[nltk_data]    | Downloading package wordnet2021 to /root/nltk_data...\n",
            "[nltk_data]    |   Package wordnet2021 is already up-to-date!\n",
            "[nltk_data]    | Downloading package wordnet2022 to /root/nltk_data...\n",
            "[nltk_data]    |   Package wordnet2022 is already up-to-date!\n",
            "[nltk_data]    | Downloading package wordnet31 to /root/nltk_data...\n",
            "[nltk_data]    |   Package wordnet31 is already up-to-date!\n",
            "[nltk_data]    | Downloading package wordnet_ic to /root/nltk_data...\n",
            "[nltk_data]    |   Package wordnet_ic is already up-to-date!\n",
            "[nltk_data]    | Downloading package words to /root/nltk_data...\n",
            "[nltk_data]    |   Package words is already up-to-date!\n",
            "[nltk_data]    | Downloading package ycoe to /root/nltk_data...\n",
            "[nltk_data]    |   Package ycoe is already up-to-date!\n",
            "[nltk_data]    | \n",
            "[nltk_data]  Done downloading collection all\n"
          ]
        }
      ],
      "source": [
        "import requests\n",
        "from bs4 import BeautifulSoup\n",
        "import nltk\n",
        "nltk.download(\"all\")\n",
        "from collections import Counter\n",
        "import re\n",
        "import matplotlib.pyplot as plt"
      ]
    },
    {
      "cell_type": "markdown",
      "metadata": {
        "id": "qixbmDPU51n7"
      },
      "source": [
        "**Requests** and **BeautifulSoup** enable web scraping, while **nltk**, **Counter**, and **re** enable data analysis in the field of Natural Language Processing (NLP). **matplotlib** is used to create a bar chart."
      ]
    },
    {
      "cell_type": "markdown",
      "metadata": {
        "id": "KHa8Vntc6aQY"
      },
      "source": [
        "## 2. Web Scraping"
      ]
    },
    {
      "cell_type": "code",
      "execution_count": 34,
      "metadata": {
        "colab": {
          "base_uri": "https://localhost:8080/"
        },
        "id": "gdMRGECUAoyW",
        "outputId": "725493d6-7ca0-44d7-9d11-e2cf4b7ee3be"
      },
      "outputs": [
        {
          "name": "stdout",
          "output_type": "stream",
          "text": [
            "['Art+Science', 'Biology + Beyond', 'Cosmos', 'Culture', 'Earth', 'Life', 'Mind', 'Ocean', 'One Question', 'Quanta Abstractions', 'Science Philanthropy Alliance', 'Spark of Science', 'The Porthole', 'The Rebel Issue', 'Women in Science & Engineering', '\\nHow taboo language turned the wolf into a monster.\\n', 'How taboo language turned the wolf into a monster.', 'Listen to them, the children of the night. What music they make!”', 'So says Count Dracula to the hapless Jonathan Harker in Bram Stoker’s novel. Dracula is talking about the wolves howling in the valley below his castle in the Carpathian mountains. This is the moment in the novel when Harker begins to feel the first twinges of fear.', 'The howl of the wolf, and the fear that accompanies it, sounds across millennia. Comparing the mythologies of cultures that descended from ancient European tribes, wolves loomed large in their minds. There are myths of heroes brought up by wolves, of great wolves who will devour the sun, of wolves guarding the underworld, and of warriors taken over by the spirit of wolves. Archaeological digs at Krasnosamarskoe, in the steppes north of the Black and Caspian seas, have given us clues that early peoples sacrificed, and even ate, dogs and wolves. Art and collected oral literature from across Asia and Europe hint of coming of age rituals where young men would wear wolf-skins, and live lawlessly on the land, almost becoming more terrifying than the wolves themselves.', 'The Swedish word for wolf descends from someone outcast from society for murder.', 'When he used the phrase “the children of the night,” Dracula was following an ancient tradition. He was avoiding the word “wolf.” In many societies, words have power, the power to summon what they name. This idea probably emerges from rituals that took place in preparation for the hunt. It was a way of calling prey so the hunt would be successful. But if words can summon prey, they can also summon danger.', 'Speakers had to find ways of referring to wolves without naming them. The word for wolf becomes taboo: It shouldn’t be said. Instead, the magic of summoning through a name can be tricked. By changing the sound of the word, by using another word, perhaps borrowed from another language, or by using a descriptive phrase rather than the word itself, speakers could talk of wolves, but avoid the dangerous word itself.', 'We can see these strategies of avoiding taboo words in English. People change the sound of words like “Hell!” or “Christ!” into “Heck!” or “Crumbs!” We have borrowed the French word “toilet” to avoid naming the place where we defecate. When the denizens of J.K. Rowling’s Harry Potter books use the phrase “You-Know-Who” for Voldemort, Rowling is appealing to the ancient magic of taboo.', 'Languages change. As people move across landscapes, their languages develop in different ways. They encounter new peoples, with different languages, and this can lead to a transformation in how people speak. But some words in languages change because the original term is avoided. Taboo, tightly tied to culture, has wrought radical changes in the original term for wolf in the languages of Europe. Like a werewolf changing its skin, the word for wolf has warped across the centuries, often in quite unexpected ways, as it traveled through the continent.', 'Dracula’s native Romanian word for wolf is lup, or in the Old Church Slavonic he learned growing up in the 15th century, vliku. These words, Romanian lup, Old Church Slavonic vliku (which later became Russian volk) and English wolf, all descend ultimately from a word in Proto-Indo-European, the ancestor of many languages spoken across the world today. The speakers of this language probably inhabited the vast steppe-lands between the Black Sea and the Caspian about 6,000 years ago, and had a way of life that involved farming and hunting, and, it appears, wolves.', 'Because languages change the sounds of words over time in very regular ways, linguists can use words in different languages to work backward to what the Proto-Indo-European words sounded like. We have developed rules which describe, often with pinpoint accuracy, how sounds change from one language to another, and these rules have been confirmed as new languages have been discovered baked into clay tablets, or inked onto ancient parchment. From ancient Tocharian in the west of China, through the Sanskrit descended languages of the Indian subcontinent and the ancient Iranian and Armenian languages to the Celtic languages still spoken on the fringes of Western Europe, linguists have been able to develop rules that explain the interrelationships of hundreds of languages.', 'Using these rules, linguists have worked out that the original Proto-Indo-European word for wolf was pronounced something like wlkwos, where the l between the w and the kw works like a vowel (think of the l in bottle, or, for some people, in milk). The Romanian, Russian, and English words for wolf can all be traced back to this ancient word wlkwos. But that word itself was taboo, and how it changed as the Indo-Europeans spread into Europe is fascinating.', 'Romanian is descended from Latin, and Romanian lup comes from the Latin word for wolf, lupus. But that Latin word itself is not what linguists expect for the Proto-Indo-European wlkwos. Sounds change in regular ways as languages develop. Usually, Proto-Indo-European w becomes Latin v, kw becomes qu, and that vowel-like l becomes ol. Wlkwos should have become Latin volquus. The reason it didn’t is almost certainly taboo. Lupus does make linguistic sense for some of the other languages of ancient Italy, like Oscan-Umbrian, an archaic language spoken in central Italy. In Oscan-Umbrian, Proto-Indo-European kw regularly changed to p. But linguists would still expect something like volpus. It seems that the ancestors of the Oscans and Umbrians also wanted to avoid the word for wolf. They did this by changing the sound of the word, tricking the summoning power of taboo by swapping round the order of w and l, and making the w more like a vowel. This turned wlkwos into lukwos, which, as kw became p, transformed to something like lupus (we don’t know the exact word). Latin speakers then avoided their word for wolf entirely by borrowing lupus from Oscan-Umbrian, like we borrowed toilet from French. As the Roman Empire expanded, that borrowed word went on to become Italian lupo, French loup, Spanish lobo and Romanian lup.', 'Tolkien co-opted an Old English word for the evil fierce wolf-monsters ridden by the orcs.', 'You might think it’s a bit odd that Proto-Indo-European kw changed over time to p. They seem quite different sounds. But say the word qua out loud. You do two things when you make the first sound of this word. Your tongue connects at the back to the back of your palette, and your lips come together, pursing up in a round kiss. You can simplify this sound in two ways: remove the lip rounding, to give a k, or move the closure at the back of the throat to the lips, so the sound becomes p. Some descendants of Proto-Indo-European did the latter quite generally, like Oscan-Umbrian, but the Germanic languages usually changed kw to k. Only in a very few cases, including in the word for wolf, do we find evidence of a different route. When Proto-Indo-European wlkwos developed into the ancient Germanic languages, it morphed into something like wulpaz, once again, an unexpected change. From there it became wulfaz, eventually giving Icelandic úlfur, Danish and Norwegian ulv, Old English wulf and modern German (and English) Wolf.', 'The Swedish word for wolf, though, is varg. This descends from an old Norse word vargr, meaning someone outcast from society for underhand murder or oath-breaking, evil deeds in Viking society. This word itself comes from a Proto-Indo-European word, roughly pronounced as hwergh, which meant to commit a crime. Hwergh is found across Indo-European languages, surfacing as vrag, enemy, in Russian, and, in the ancient language Hittite, the related word hurkil signifies sin or perversion. In Old English, the word is spelled as warg. An Old English word for a gallows is warg-tree, and Tolkien co-opted the word to use for the evil fierce wolf-monsters ridden by the orcs in The Lord of the Rings. Varg is another way of avoiding the true word for wolf.', 'The Celtic languages take avoidance of the word for wolf to an extreme. In the older Celtic languages the Proto-Indo-European word wlkwos vanishes. Instead, some ancient Celtic tribes coopted a different word, derived from the Proto-Indo-European waylos, meaning howler. In Old Irish, a w at the start of a Proto-Indo-European word usually became an f, giving the Old Irish word for wolf, faol, the howling one. The Celts also used the word cù, which means dog, as a means of avoiding the word for wolf. Many ancient Irish heroes and kings, like Cuchulainn or Conchobar, have names apparently based on the word dog, but the meaning was likely that of wolf. In the modern Celtic languages, the taboo remains. Modern Irish uses mac tìre, literally, “son of the land,” since the wolf ranges freely across the countryside, while Scottish Gaelic has cù-allaidh, “wild dog.” In Welsh, the word is blaidd, which is a borrowing from a now lost ancient language of Britain, borrowed so long ago that no other word for wolf descending from Proto-Indo-European is found in the language.', 'What of the word “wolf” today? A century ago, wolves across Europe and North America had reached their nadir. Fear of the wolf, combined with hunting, poisoning, and loss of habitat, led to a plunge in wolf populations. Scientists, though, have tamped down that fear. They have shown that wolves care for their elderly and wounded, bringing them food. Wolves have hugely complex social systems, and their presence can enrich the diversity of a wild environment.', 'In the past quarter century wolves have begun to flourish again, as laws protecting endangered species have come into effect, and as researchers began to show that reintroducing wolves can rebalance an ecology. The reintroduction of wolves into Yellowstone National Park has seen an ecological revival of animal and plant species in the park, and across Europe wolf packs have spread to new habitats in Germany, Poland, and Spain. New conservation areas have even been put in place in Dracula’s beloved Carpathians.', 'Words change meaning across time. Perhaps, as we come to understand more about wolves, we will develop new ways of talking about the ever-fascinating children of the night.', 'David Adger is a professor of linguistics at Queen Mary University of London. His most recent book is Language Unlimited: The Science Behind Our Most Creative Power.', 'Lead image: YuliyaRazukevichus / Shutterstock', 'Cutting-edge science, unraveled by the very brightest living thinkers.', 'Introducing the Nautilus Summer Reading List', 'The Leather of the Future', 'The Oldest Ecosystems on Earth', 'Nautilus is a different kind of science magazine. Our stories take you into the depths of \\n\\t\\t\\t\\t\\tscience and spotlight its ripples in our lives and cultures.', 'Cutting-edge science, unraveled by the very brightest living thinkers.', '© 2024 NautilusNext Inc., All rights reserved.', 'You’ve read your 2 free articles this month. Access unlimited ad-free stories, including this one, by becoming a Nautilus member.', 'Don’t limit your curiosity. Access unlimited ad-free stories like this one, and support independent journalism, by becoming a Nautilus member.', 'Literary and always interesting.', 'To read this story, sign up for the free Nautilus newsletter: science and culture for people who love beautiful writing.']\n"
          ]
        }
      ],
      "source": [
        "\n",
        "page = requests.get(\"https://nautil.us/never-say-wolf-237701/\")\n",
        "\n",
        "soup = BeautifulSoup(page.content, 'html.parser')\n",
        "\n",
        "paragraphs = soup.find_all('p')\n",
        "\n",
        "only_text = []\n",
        "\n",
        "for el in paragraphs:\n",
        "    if len(el.getText().strip()) > 0:\n",
        "        only_text.append(el.getText())\n",
        "\n",
        "print(only_text)\n"
      ]
    },
    {
      "cell_type": "markdown",
      "metadata": {
        "id": "SoPeBWiRAYwv"
      },
      "source": [
        "In this section, the text content is being scraped from a [webpage](https://nautil.us/never-say-wolf-237701/). **Requests** is used to fetch the text, and **BeautifulSoup** is employed to parse the HTML content. Subsequently, all paragraph elements are found applying **soup.find_all(\"p\")**, and the text is appended to the list after removing unnecessary whitespaces."
      ]
    },
    {
      "cell_type": "markdown",
      "metadata": {
        "id": "CPc1t61OC5ND"
      },
      "source": [
        "## 3. Tokenization and Parts-of-Speech Tagging"
      ]
    },
    {
      "cell_type": "code",
      "execution_count": 35,
      "metadata": {
        "id": "P9ceobkNAxJI"
      },
      "outputs": [],
      "source": [
        "pos_tagged_tokens = []\n",
        "\n",
        "for sentence in only_text:\n",
        "    tokens = nltk.word_tokenize(sentence)\n",
        "    pos_tagged = nltk.pos_tag(tokens)\n",
        "    for item in pos_tagged:\n",
        "        pos_tagged_tokens.append(item)\n"
      ]
    },
    {
      "cell_type": "markdown",
      "metadata": {
        "id": "86EMs7_cDXy8"
      },
      "source": [
        "Next, the text undergoes parts-of-speech (POS) tagging. Firstly, the text is tokenized into words applying **nltk.word_tokenize()**. Then, the words are tagged using **nltk.pos_tag()**. The POS tags are then stored in a list."
      ]
    },
    {
      "cell_type": "markdown",
      "metadata": {
        "id": "v_6yRUgpTfwq"
      },
      "source": [
        "## 4. POS Tag Frequency Analysis"
      ]
    },
    {
      "cell_type": "code",
      "execution_count": 36,
      "metadata": {
        "colab": {
          "base_uri": "https://localhost:8080/"
        },
        "id": "RI1tUNXHTdRj",
        "outputId": "5d0baeb9-b12e-4cdc-a9f8-236453c99608"
      },
      "outputs": [
        {
          "name": "stdout",
          "output_type": "stream",
          "text": [
            "Counter({'NN': 352, 'IN': 276, 'DT': 225, 'NNP': 162, 'JJ': 159, 'NNS': 154, ',': 148, '.': 104, 'CC': 67, 'RB': 62, 'VBN': 57, 'VBP': 55, 'VBZ': 54, 'VBD': 50, 'VBG': 48, 'VB': 47, 'PRP': 46, 'TO': 34, 'PRP$': 18, 'MD': 18, 'WRB': 13, 'WDT': 11, 'CD': 10, 'RP': 8, 'WP': 7, ':': 5, '(': 4, ')': 4, 'NNPS': 4, 'JJS': 3, 'EX': 2, 'RBR': 2, 'JJR': 2, 'RBS': 2})\n"
          ]
        }
      ],
      "source": [
        "pos_tags_list = [tag for word, tag in pos_tagged_tokens]\n",
        "pos_tag_counts = Counter(pos_tags_list)\n",
        "print(pos_tag_counts)"
      ]
    },
    {
      "cell_type": "markdown",
      "metadata": {
        "id": "Cw9Ym3zOUEO9"
      },
      "source": [
        "The occurrence of each Part-of-Speech tag is counted using **Counter**.\n",
        "\n",
        "To display only the most common parts of speech the **.most_common(5)** method is used."
      ]
    },
    {
      "cell_type": "code",
      "execution_count": null,
      "metadata": {
        "colab": {
          "base_uri": "https://localhost:8080/",
          "height": 465
        },
        "id": "cWG-btkHSJu8",
        "outputId": "49115770-898f-42e0-a33f-2bae4c43b9bd"
      },
      "outputs": [
        {
          "name": "stdout",
          "output_type": "stream",
          "text": [
            "[('NN', 352), ('IN', 276), ('DT', 225), ('NNP', 162), ('JJ', 159)]\n"
          ]
        },
        {
          "data": {
            "text/plain": [
              "<BarContainer object of 5 artists>"
            ]
          },
          "execution_count": 37,
          "metadata": {},
          "output_type": "execute_result"
        },
        {
          "data": {
            "image/png": "[encoded data removed]",
            "text/plain": [
              "<Figure size 640x480 with 1 Axes>"
            ]
          },
          "metadata": {},
          "output_type": "display_data"
        }
      ],
      "source": [
        "most_common_pos = pos_tag_counts.most_common(5)\n",
        "print(most_common_pos)\n",
        "tags, counts = zip(*most_common_pos)\n",
        "plt.bar(tags[0:8], counts[0:8], color = \"black\")"
      ]
    },
    {
      "cell_type": "markdown",
      "metadata": {
        "id": "mDxaWYsOM6vj"
      },
      "source": [
        "The five most common POS tags are split into separate lists of tags and their counts with zip(\\*most_common_pos). The bar chart is displayed using **plt.bar()**."
      ]
    },
    {
      "cell_type": "markdown",
      "metadata": {
        "id": "7ZzEKqOXUKZx"
      },
      "source": [
        "## 5. Word Length Analysis"
      ]
    },
    {
      "cell_type": "code",
      "execution_count": 38,
      "metadata": {
        "colab": {
          "base_uri": "https://localhost:8080/"
        },
        "id": "sUTVHrKDIFBM",
        "outputId": "c20976cf-6059-4c37-89eb-e562594d1b5e"
      },
      "outputs": [
        {
          "name": "stdout",
          "output_type": "stream",
          "text": [
            "Counter({4: 391, 3: 352, 2: 281, 5: 222, 6: 198, 7: 184, 8: 119, 9: 94, 1: 62, 10: 30, 11: 19, 12: 6, 14: 3, 18: 2, 15: 1, 13: 1})\n"
          ]
        }
      ],
      "source": [
        "all_text = ' '.join(only_text)\n",
        "words = re.findall(r'\\b\\w+\\b', all_text)\n",
        "word_lengths = [len(word) for word in words]\n",
        "length_freq = Counter(word_lengths)\n",
        "print(length_freq)"
      ]
    },
    {
      "cell_type": "markdown",
      "metadata": {
        "id": "N-edEEyCU0BG"
      },
      "source": [
        "After concatenating all the text into a single string by **.join()**, **regular expressions** are utilized to find all words in the text. The expression matches patterns consisting of a word boundary (\\b) followed by one or more word characters (w+) and a word boundary (\\b). Next, the length of words is calculated using a **for loop** in a **list comprehension**. Finally, **Counter** is applied to calculate the frequency of each word length.\n"
      ]
    },
    {
      "cell_type": "code",
      "execution_count": 39,
      "metadata": {
        "colab": {
          "base_uri": "https://localhost:8080/"
        },
        "id": "LRTkeNMUSMfe",
        "outputId": "1d5cb658-09da-49b2-b8e4-1ab8c14c751a"
      },
      "outputs": [
        {
          "name": "stdout",
          "output_type": "stream",
          "text": [
            "[(4, 391), (3, 352), (2, 281), (5, 222), (6, 198), (7, 184), (8, 119), (9, 94), (1, 62), (10, 30)]\n"
          ]
        }
      ],
      "source": [
        "print(length_freq.most_common(10))"
      ]
    },
    {
      "cell_type": "markdown",
      "metadata": {
        "id": "5fOxavBLBbSj"
      },
      "source": [
        "Again, the **.most_common()** method is used to display only the most frequent number of letters in a word."
      ]
    },
    {
      "cell_type": "code",
      "execution_count": 40,
      "metadata": {
        "colab": {
          "base_uri": "https://localhost:8080/"
        },
        "id": "4vIDk3TaMz21",
        "outputId": "af0ee14f-8038-4808-dc32-b76b6ca3faf0"
      },
      "outputs": [
        {
          "name": "stdout",
          "output_type": "stream",
          "text": [
            "Average word length: 4.740458015267175\n"
          ]
        }
      ],
      "source": [
        "total_words = len(words)\n",
        "\n",
        "total_letters = 0\n",
        "for word in words:\n",
        "  total_letters += len(word)\n",
        "\n",
        "avg_letters_for_words = total_letters / total_words\n",
        "\n",
        "print(f\"Average word length: {avg_letters_for_words}\")"
      ]
    },
    {
      "cell_type": "markdown",
      "metadata": {
        "id": "mlRpb6C_bkdI"
      },
      "source": [
        "After determining the total number of words in the text by the **len** function, each word is iterated through, and their length is summed. The average word length is counted by dividing the total number of letters by the total number of words."
      ]
    },
    {
      "cell_type": "markdown",
      "metadata": {
        "id": "EDsn_V1VdVGY"
      },
      "source": [
        "## 6. Word Frequency Analysis"
      ]
    },
    {
      "cell_type": "code",
      "execution_count": 41,
      "metadata": {
        "colab": {
          "base_uri": "https://localhost:8080/"
        },
        "id": "3AzFr0HpKK5p",
        "outputId": "44bd5d15-0212-4ab2-bfe8-baac65885abe"
      },
      "outputs": [
        {
          "name": "stdout",
          "output_type": "stream",
          "text": [
            "The total number of the word in the text: 32\n"
          ]
        }
      ],
      "source": [
        "def find_word_frequency(word):\n",
        "  pattern = fr'\\b{word}\\b'\n",
        "  matches = re.findall(pattern, all_text, re.IGNORECASE)\n",
        "  return f\"The total number of the word in the text: {len(matches)}\"\n",
        "\n",
        "print(find_word_frequency(\"wolf\"))"
      ]
    },
    {
      "cell_type": "markdown",
      "metadata": {
        "id": "nPdRQHvUdpUr"
      },
      "source": [
        "In this section, a **find_word_frequency()** function is defined to count the frequency of a specific word in the text. It takes a string as input. Inside the function, a **regex** pattern is constructed to match the given word. \\b is applied to match word boundaries. The usage of **formatted string** allows the user to dynamically insert the word into the pattern."
      ]
    },
    {
      "cell_type": "markdown",
      "metadata": {
        "id": "SfPTZVVAfEOJ"
      },
      "source": [
        "## 7. Past Continuous Tense Analysis"
      ]
    },
    {
      "cell_type": "code",
      "execution_count": 42,
      "metadata": {
        "colab": {
          "base_uri": "https://localhost:8080/"
        },
        "id": "IYJNlzaFTzS7",
        "outputId": "11100793-15d1-45da-aa15-ef9a7db37497"
      },
      "outputs": [
        {
          "name": "stdout",
          "output_type": "stream",
          "text": [
            "The number of past continuous used in negative and positive sentences: 2\n",
            "The number of past continuous used in questions: 1\n",
            "Total number of past continuous used in the text: 3\n"
          ]
        }
      ],
      "source": [
        "pattern_neg_pos = r\"\\b(was(n't| not)?|were(n't|not)?)\\s+\\w+ing\\b\"\n",
        "matches_neg_pos = re.findall(pattern_neg_pos, all_text, re.IGNORECASE)\n",
        "neg_pos = len(matches_neg_pos)\n",
        "\n",
        "pattern_ques = r\"\\b(were|was)\\s+\\w+\\s+\\w+ing?\\b\"\n",
        "matches_ques = re.findall(pattern_ques, all_text, re.IGNORECASE)\n",
        "ques = len(matches_ques)\n",
        "\n",
        "print(f\"The number of past continuous used in negative and positive sentences: {neg_pos}\")\n",
        "print(f\"The number of past continuous used in questions: {ques}\")\n",
        "print(f\"Total number of past continuous used in the text: {neg_pos + ques}\")"
      ]
    },
    {
      "cell_type": "markdown",
      "metadata": {
        "id": "1ldyRdFpi_OT"
      },
      "source": [
        "In this stage, the occurrences of past continuous tense in the text are counted. Firstly, the **regex** pattern is constructed to match positive and negative sentences:\n",
        "* **\\b** - asserts a word boundary\n",
        "* **was(n't| not)?|were(n't|not)?** - matches _was_ or _were_ followed by an optional _n't_ or _not_\n",
        "* **\\s+** - matches one or more whitespace characters\n",
        "* **\\w+ing\\b** - matches one or more word characters followed by _ing_ and asserts a word boundary to ensure it ends with _ing_\n",
        "\n",
        "Subsequently, **re.findall** finds all occurrences of the pattern in the text, ignoring case, and the **len** function counts the number of matches - the number of past continuous forms used in positive and negative sentences.\n",
        "\n",
        "Next, the occurrence of questions is counted. Again, firstly, the **regex** pattern is established:\n",
        "* **\\b(were|was)** - matches _were_ or _was_\n",
        "* **\\s+** - matches one or more whitespace characters\n",
        "* **\\w+** - matches one or more word characters (the subject of the sentence)\n",
        "* **\\s+** - matches one or more whitespace characters\n",
        "* **\\w+ing\\b** - matches one or more word characters ending with _ing_ and asserts a word boundary\n",
        "\n",
        "Again, **re.findall** finds all occurrences of the pattern in the text, ignoring case, and the **len** function counts the number of matches - the number of interrogative structures used in the text."
      ]
    },
    {
      "cell_type": "markdown",
      "metadata": {
        "id": "wpod5vTJ6Aw8"
      },
      "source": [
        "#Summary\n",
        "In this project, Python is utilized to perform linguistic analysis on text extracted from a webpage. The process includes the following steps:\n",
        "\n",
        "1. Web Scraping\n",
        "2. Tonenization and POS Tagging\n",
        "3. POS Tag Frequency Analysis\n",
        "4. Word Length Analysis\n",
        "5. Word Frequency Analysis\n",
        "6. Past Continuous Tense Analysis\n"
      ]
    }
  ],
  "metadata": {
    "colab": {
      "provenance": []
    },
    "kernelspec": {
      "display_name": "Python 3",
      "name": "python3"
    },
    "language_info": {
      "name": "python"
    }
  },
  "nbformat": 4,
  "nbformat_minor": 0
}
